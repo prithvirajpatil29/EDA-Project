{
 "cells": [
  {
   "cell_type": "code",
   "execution_count": 1,
   "id": "e4a4bcc4",
   "metadata": {},
   "outputs": [],
   "source": [
    "import pandas as pd\n",
    "import numpy as np\n",
    "import matplotlib.pyplot as plt\n",
    "import seaborn as sns\n",
    "\n",
    "import warnings\n",
    "warnings.filterwarnings('ignore')"
   ]
  },
  {
   "cell_type": "code",
   "execution_count": 2,
   "id": "94569b5e",
   "metadata": {},
   "outputs": [],
   "source": [
    "df = pd.read_csv('C:/Users/prith/OneDrive/Documents/aiml project/startup.csv')"
   ]
  },
  {
   "cell_type": "code",
   "execution_count": 3,
   "id": "6cf188c2",
   "metadata": {},
   "outputs": [
    {
     "data": {
      "text/html": [
       "<div>\n",
       "<style scoped>\n",
       "    .dataframe tbody tr th:only-of-type {\n",
       "        vertical-align: middle;\n",
       "    }\n",
       "\n",
       "    .dataframe tbody tr th {\n",
       "        vertical-align: top;\n",
       "    }\n",
       "\n",
       "    .dataframe thead th {\n",
       "        text-align: right;\n",
       "    }\n",
       "</style>\n",
       "<table border=\"1\" class=\"dataframe\">\n",
       "  <thead>\n",
       "    <tr style=\"text-align: right;\">\n",
       "      <th></th>\n",
       "      <th>Sr No</th>\n",
       "      <th>Date dd/mm/yyyy</th>\n",
       "      <th>Startup Name</th>\n",
       "      <th>Industry Vertical</th>\n",
       "      <th>SubVertical</th>\n",
       "      <th>City  Location</th>\n",
       "      <th>Investors Name</th>\n",
       "      <th>Investment Type</th>\n",
       "      <th>Amount in USD</th>\n",
       "      <th>Remarks</th>\n",
       "    </tr>\n",
       "  </thead>\n",
       "  <tbody>\n",
       "    <tr>\n",
       "      <th>0</th>\n",
       "      <td>1</td>\n",
       "      <td>09-01-2020</td>\n",
       "      <td>BYJU’S</td>\n",
       "      <td>E-Tech</td>\n",
       "      <td>E-learning</td>\n",
       "      <td>Bengaluru</td>\n",
       "      <td>Tiger Global Management</td>\n",
       "      <td>Private Equity Round</td>\n",
       "      <td>20,00,00,000</td>\n",
       "      <td>NaN</td>\n",
       "    </tr>\n",
       "    <tr>\n",
       "      <th>1</th>\n",
       "      <td>2</td>\n",
       "      <td>13-01-2020</td>\n",
       "      <td>Shuttl</td>\n",
       "      <td>Transportation</td>\n",
       "      <td>App based shuttle service</td>\n",
       "      <td>Gurgaon</td>\n",
       "      <td>Susquehanna Growth Equity</td>\n",
       "      <td>Series C</td>\n",
       "      <td>80,48,394</td>\n",
       "      <td>NaN</td>\n",
       "    </tr>\n",
       "    <tr>\n",
       "      <th>2</th>\n",
       "      <td>3</td>\n",
       "      <td>09-01-2020</td>\n",
       "      <td>Mamaearth</td>\n",
       "      <td>E-commerce</td>\n",
       "      <td>Retailer of baby and toddler products</td>\n",
       "      <td>Bengaluru</td>\n",
       "      <td>Sequoia Capital India</td>\n",
       "      <td>Series B</td>\n",
       "      <td>1,83,58,860</td>\n",
       "      <td>NaN</td>\n",
       "    </tr>\n",
       "    <tr>\n",
       "      <th>3</th>\n",
       "      <td>4</td>\n",
       "      <td>02-01-2020</td>\n",
       "      <td>wealth bucket</td>\n",
       "      <td>FinTech</td>\n",
       "      <td>Online Investment</td>\n",
       "      <td>New Delhi</td>\n",
       "      <td>Vinod Khatumal</td>\n",
       "      <td>Pre-series A</td>\n",
       "      <td>30,00,000</td>\n",
       "      <td>NaN</td>\n",
       "    </tr>\n",
       "    <tr>\n",
       "      <th>4</th>\n",
       "      <td>5</td>\n",
       "      <td>02-01-2020</td>\n",
       "      <td>Fashor</td>\n",
       "      <td>Fashion and Apparel</td>\n",
       "      <td>Embroiled Clothes For Women</td>\n",
       "      <td>Mumbai</td>\n",
       "      <td>Sprout Venture Partners</td>\n",
       "      <td>Seed Round</td>\n",
       "      <td>18,00,000</td>\n",
       "      <td>NaN</td>\n",
       "    </tr>\n",
       "    <tr>\n",
       "      <th>5</th>\n",
       "      <td>6</td>\n",
       "      <td>13-01-2020</td>\n",
       "      <td>Pando</td>\n",
       "      <td>Logistics</td>\n",
       "      <td>Open-market, freight management platform</td>\n",
       "      <td>Chennai</td>\n",
       "      <td>Chiratae Ventures</td>\n",
       "      <td>Series A</td>\n",
       "      <td>90,00,000</td>\n",
       "      <td>NaN</td>\n",
       "    </tr>\n",
       "    <tr>\n",
       "      <th>6</th>\n",
       "      <td>7</td>\n",
       "      <td>10-01-2020</td>\n",
       "      <td>Zomato</td>\n",
       "      <td>Hospitality</td>\n",
       "      <td>Online Food Delivery Platform</td>\n",
       "      <td>Gurgaon</td>\n",
       "      <td>Ant Financial</td>\n",
       "      <td>Private Equity Round</td>\n",
       "      <td>15,00,00,000</td>\n",
       "      <td>NaN</td>\n",
       "    </tr>\n",
       "    <tr>\n",
       "      <th>7</th>\n",
       "      <td>8</td>\n",
       "      <td>12-12-2019</td>\n",
       "      <td>Ecozen</td>\n",
       "      <td>Technology</td>\n",
       "      <td>Agritech</td>\n",
       "      <td>Pune</td>\n",
       "      <td>Sathguru Catalyzer Advisors</td>\n",
       "      <td>Series A</td>\n",
       "      <td>60,00,000</td>\n",
       "      <td>NaN</td>\n",
       "    </tr>\n",
       "    <tr>\n",
       "      <th>8</th>\n",
       "      <td>9</td>\n",
       "      <td>06-12-2019</td>\n",
       "      <td>CarDekho</td>\n",
       "      <td>E-Commerce</td>\n",
       "      <td>Automobile</td>\n",
       "      <td>Gurgaon</td>\n",
       "      <td>Ping An Global Voyager Fund</td>\n",
       "      <td>Series D</td>\n",
       "      <td>7,00,00,000</td>\n",
       "      <td>NaN</td>\n",
       "    </tr>\n",
       "    <tr>\n",
       "      <th>9</th>\n",
       "      <td>10</td>\n",
       "      <td>03-12-2019</td>\n",
       "      <td>Dhruva Space</td>\n",
       "      <td>Aerospace</td>\n",
       "      <td>Satellite Communication</td>\n",
       "      <td>Bengaluru</td>\n",
       "      <td>Mumbai Angels, Ravikanth Reddy</td>\n",
       "      <td>Seed</td>\n",
       "      <td>5,00,00,000</td>\n",
       "      <td>NaN</td>\n",
       "    </tr>\n",
       "  </tbody>\n",
       "</table>\n",
       "</div>"
      ],
      "text/plain": [
       "   Sr No Date dd/mm/yyyy   Startup Name    Industry Vertical  \\\n",
       "0      1      09-01-2020         BYJU’S               E-Tech   \n",
       "1      2      13-01-2020         Shuttl       Transportation   \n",
       "2      3      09-01-2020      Mamaearth           E-commerce   \n",
       "3      4      02-01-2020  wealth bucket              FinTech   \n",
       "4      5      02-01-2020         Fashor  Fashion and Apparel   \n",
       "5      6      13-01-2020          Pando            Logistics   \n",
       "6      7      10-01-2020         Zomato          Hospitality   \n",
       "7      8      12-12-2019         Ecozen           Technology   \n",
       "8      9      06-12-2019       CarDekho           E-Commerce   \n",
       "9     10      03-12-2019   Dhruva Space            Aerospace   \n",
       "\n",
       "                                SubVertical City  Location  \\\n",
       "0                                E-learning      Bengaluru   \n",
       "1                 App based shuttle service        Gurgaon   \n",
       "2     Retailer of baby and toddler products      Bengaluru   \n",
       "3                         Online Investment      New Delhi   \n",
       "4               Embroiled Clothes For Women         Mumbai   \n",
       "5  Open-market, freight management platform        Chennai   \n",
       "6             Online Food Delivery Platform        Gurgaon   \n",
       "7                                  Agritech           Pune   \n",
       "8                                Automobile        Gurgaon   \n",
       "9                   Satellite Communication      Bengaluru   \n",
       "\n",
       "                   Investors Name       Investment Type Amount in USD Remarks  \n",
       "0         Tiger Global Management  Private Equity Round  20,00,00,000     NaN  \n",
       "1       Susquehanna Growth Equity              Series C     80,48,394     NaN  \n",
       "2           Sequoia Capital India              Series B   1,83,58,860     NaN  \n",
       "3                  Vinod Khatumal          Pre-series A     30,00,000     NaN  \n",
       "4         Sprout Venture Partners            Seed Round     18,00,000     NaN  \n",
       "5               Chiratae Ventures              Series A     90,00,000     NaN  \n",
       "6                   Ant Financial  Private Equity Round  15,00,00,000     NaN  \n",
       "7     Sathguru Catalyzer Advisors              Series A     60,00,000     NaN  \n",
       "8     Ping An Global Voyager Fund              Series D   7,00,00,000     NaN  \n",
       "9  Mumbai Angels, Ravikanth Reddy                  Seed   5,00,00,000     NaN  "
      ]
     },
     "execution_count": 3,
     "metadata": {},
     "output_type": "execute_result"
    }
   ],
   "source": [
    "df.head(10)"
   ]
  },
  {
   "cell_type": "code",
   "execution_count": 4,
   "id": "604babad",
   "metadata": {},
   "outputs": [
    {
     "data": {
      "text/plain": [
       "(3044, 10)"
      ]
     },
     "execution_count": 4,
     "metadata": {},
     "output_type": "execute_result"
    }
   ],
   "source": [
    "df.shape"
   ]
  },
  {
   "cell_type": "code",
   "execution_count": 5,
   "id": "979464bc",
   "metadata": {},
   "outputs": [
    {
     "name": "stdout",
     "output_type": "stream",
     "text": [
      "<class 'pandas.core.frame.DataFrame'>\n",
      "RangeIndex: 3044 entries, 0 to 3043\n",
      "Data columns (total 10 columns):\n",
      " #   Column             Non-Null Count  Dtype \n",
      "---  ------             --------------  ----- \n",
      " 0   Sr No              3044 non-null   int64 \n",
      " 1   Date dd/mm/yyyy    3044 non-null   object\n",
      " 2   Startup Name       3044 non-null   object\n",
      " 3   Industry Vertical  2873 non-null   object\n",
      " 4   SubVertical        2108 non-null   object\n",
      " 5   City  Location     2864 non-null   object\n",
      " 6   Investors Name     3020 non-null   object\n",
      " 7   Investment Type    3040 non-null   object\n",
      " 8   Amount in USD      2084 non-null   object\n",
      " 9   Remarks            419 non-null    object\n",
      "dtypes: int64(1), object(9)\n",
      "memory usage: 237.9+ KB\n"
     ]
    }
   ],
   "source": [
    "#features data set\n",
    "df.info()"
   ]
  },
  {
   "cell_type": "code",
   "execution_count": 6,
   "id": "a3a00639",
   "metadata": {},
   "outputs": [],
   "source": [
    "#Data Type of Date column was object but after using to_datetime(), it got converted into a date time object.\n",
    "df['Date dd/mm/yyyy'] = pd.to_datetime(df['Date dd/mm/yyyy'], errors = 'coerce')"
   ]
  },
  {
   "cell_type": "code",
   "execution_count": 7,
   "id": "1d7cc897",
   "metadata": {},
   "outputs": [],
   "source": [
    "#Data Pre processing"
   ]
  },
  {
   "cell_type": "code",
   "execution_count": 8,
   "id": "8296501c",
   "metadata": {},
   "outputs": [],
   "source": [
    "#Replacing the commas in 'Amount in USD' feature\n",
    "df['Amount in USD'] = df['Amount in USD'].apply(lambda x: str(x).replace(',', ''))"
   ]
  },
  {
   "cell_type": "code",
   "execution_count": 9,
   "id": "e70f3ee4",
   "metadata": {},
   "outputs": [],
   "source": [
    "# Fixing the faulty values in 'Amount in USD' feature\n",
    "df['Amount in USD'] = df['Amount in USD'].apply(lambda x : str(x).replace(\"undisclosed\", \"0\"))\n",
    "df['Amount in USD'] = df['Amount in USD'].apply(lambda x : str(x).replace(\"Undisclosed\", \"0\"))\n",
    "df['Amount in USD'] = df['Amount in USD'].apply(lambda x : str(x).replace(\"unknown\", \"0\"))\n",
    "df['Amount in USD'] = df['Amount in USD'].apply(lambda x : str(x).replace(\"14342000+\", \"0\"))\n",
    "df['Amount in USD'] = df['Amount in USD'].apply(lambda x : str(x).replace(\"\\\\\\\\xc2\\\\\\\\xa010000000\", \"0\"))\n",
    "df['Amount in USD'] = df['Amount in USD'].apply(lambda x : str(x).replace(\"\\\\\\\\xc2\\\\\\\\xa05000000\", \"0\"))\n",
    "df['Amount in USD'] = df['Amount in USD'].apply(lambda x : str(x).replace(\"\\\\\\\\xc2\\\\\\\\xa019350000\", \"0\"))\n",
    "df['Amount in USD'] = df['Amount in USD'].apply(lambda x : str(x).replace(\"\\\\\\\\xc2\\\\\\\\xa0600000\", \"0\"))\n",
    "df['Amount in USD'] = df['Amount in USD'].apply(lambda x : str(x).replace(\"\\\\\\\\xc2\\\\\\\\xa020000000\", \"0\"))\n",
    "df['Amount in USD'] = df['Amount in USD'].apply(lambda x : str(x).replace(\"\\\\\\\\xc2\\\\\\\\xa0N/A\", \"0\"))\n",
    "df['Amount in USD'] = df['Amount in USD'].apply(lambda x : str(x).replace(\"\\\\\\\\xc2\\\\\\\\xa016200000\", \"0\"))\n",
    "df['Amount in USD'] = df['Amount in USD'].apply(lambda x : str(x).replace(\"\\\\\\\\xc2\\\\\\\\xa0685000\", \"0\"))\n",
    "df['Amount in USD'] = df['Amount in USD'].apply(lambda x : str(x).replace(\"nan\", \"0\"))"
   ]
  },
  {
   "cell_type": "code",
   "execution_count": 10,
   "id": "3d2facef",
   "metadata": {},
   "outputs": [],
   "source": [
    "# Converting to numeric data-type\n",
    "df['Amount in USD'] = pd.to_numeric(df['Amount in USD'])"
   ]
  },
  {
   "cell_type": "code",
   "execution_count": 11,
   "id": "e146bfd8",
   "metadata": {},
   "outputs": [
    {
     "data": {
      "text/plain": [
       "0.0           32.16 %\n",
       "1000000.0      5.45 %\n",
       "500000.0       3.55 %\n",
       "2000000.0      2.27 %\n",
       "3000000.0      2.17 %\n",
       "5000000.0      2.17 %\n",
       "10000000.0     1.97 %\n",
       "100000.0       1.87 %\n",
       "150000.0       1.48 %\n",
       "200000.0       1.45 %\n",
       "Name: Amount in USD, dtype: object"
      ]
     },
     "execution_count": 11,
     "metadata": {},
     "output_type": "execute_result"
    }
   ],
   "source": [
    "# Checking for most frequent values in 'Amount in USD'\n",
    "df['Amount in USD'].value_counts(normalize = True).head(10).mul(100).round(2).astype(str) + ' %'"
   ]
  },
  {
   "cell_type": "code",
   "execution_count": 12,
   "id": "8e55b81b",
   "metadata": {},
   "outputs": [],
   "source": [
    "# Replacing 0 in 'Amount in USD' with null values\n",
    "df['Amount in USD'] = df['Amount in USD'].replace(0, np.nan)"
   ]
  },
  {
   "cell_type": "code",
   "execution_count": 13,
   "id": "9ae12594",
   "metadata": {},
   "outputs": [],
   "source": [
    "# Replacing null values with mean\n",
    "df['Amount in USD'].fillna(df['Amount in USD'].mean(), inplace = True)"
   ]
  },
  {
   "cell_type": "code",
   "execution_count": 14,
   "id": "d378987e",
   "metadata": {},
   "outputs": [],
   "source": [
    "# Fixing the faulty values in 'Date' column\n",
    "df['Date dd/mm/yyyy'][df['Date dd/mm/yyyy'] == '12/05.2015'] = '12/05/2015'\n",
    "df['Date dd/mm/yyyy'][df['Date dd/mm/yyyy'] == '13/04.2015'] = '13/04/2015'\n",
    "df['Date dd/mm/yyyy'][df['Date dd/mm/yyyy'] == '15/01.2015'] = '15/01/2015'\n",
    "df['Date dd/mm/yyyy'][df['Date dd/mm/yyyy'] == '22/01//2015'] = '22/01/2015'\n",
    "df['Date dd/mm/yyyy'][df['Date dd/mm/yyyy'] == '05/072018'] = '05/07/2018'\n",
    "df['Date dd/mm/yyyy'][df['Date dd/mm/yyyy'] == '01/07/015'] = '01/07/2015'\n",
    "df['Date dd/mm/yyyy'][df['Date dd/mm/yyyy'] == '05/072018'] = '05/07/2018'\n",
    "df['Date dd/mm/yyyy'][df['Date dd/mm/yyyy'] == '\\\\xc2\\\\xa010/7/2015'] = '10/07/2015'\n",
    "df['Date dd/mm/yyyy'][df['Date dd/mm/yyyy'] == '\\\\\\\\xc2\\\\\\\\xa010/7/2015'] = '10/07/2015'"
   ]
  },
  {
   "cell_type": "code",
   "execution_count": 15,
   "id": "67265a53",
   "metadata": {},
   "outputs": [],
   "source": [
    "# Dropping the 'Remarks' feature as it contains 86.24% null values\n",
    "df.drop('Remarks', axis = 1, inplace = True)"
   ]
  },
  {
   "cell_type": "code",
   "execution_count": 16,
   "id": "ff209382",
   "metadata": {},
   "outputs": [],
   "source": [
    "# Replacing 'Bengaluru' with the more common name 'Bangalore' in the dataset\n",
    "df['City  Location'][df['City  Location'] == 'Bengaluru'] = 'Bangalore'"
   ]
  },
  {
   "cell_type": "code",
   "execution_count": 17,
   "id": "c65b327a",
   "metadata": {},
   "outputs": [],
   "source": [
    "# Removing the space in 'Ola Cabs' as it gives two different words in WordCloud\n",
    "df['Startup Name'][df['Startup Name'] == 'Ola Cabs'] = 'OlaCabs'"
   ]
  },
  {
   "cell_type": "code",
   "execution_count": 18,
   "id": "9cc5584c",
   "metadata": {},
   "outputs": [],
   "source": [
    "# Replacing 'Undisclosed investors' with a common name 'Undisclosed Investors'\n",
    "df['Investors Name'][df['Investors Name'] == 'Undisclosed investors'] = 'Undisclosed Investors'\n",
    "df['Investors Name'][df['Investors Name'] == 'Undisclosed Investor'] = 'Undisclosed Investors'\n",
    "df['Investors Name'][df['Investors Name'] == 'undisclosed investors'] = 'Undisclosed Investors'\n",
    "df['Investors Name'][df['Investors Name'] == 'Undisclosed'] = 'Undisclosed Investors'"
   ]
  },
  {
   "cell_type": "code",
   "execution_count": 19,
   "id": "0eb8ce6e",
   "metadata": {},
   "outputs": [],
   "source": [
    "# Replacing with more common word\n",
    "df['Investment Type'][df['Investment Type'] == 'Seed/ Angel Funding'] = 'Seed / Angel Funding'\n",
    "df['Investment Type'][df['Investment Type'] == 'Seed\\\\\\\\nFunding'] = 'Seed Funding'\n",
    "df['Investment Type'][df['Investment Type'] == 'Seed/ Angel Funding'] = 'Seed / Angel Funding'\n",
    "df['Investment Type'][df['Investment Type'] == 'Seed/Angel Funding'] = 'Seed / Angel Funding'\n",
    "df['Investment Type'][df['Investment Type'] == 'Angel / Seed Funding'] = 'Seed / Angel Funding'"
   ]
  },
  {
   "cell_type": "code",
   "execution_count": 20,
   "id": "7ffa8938",
   "metadata": {},
   "outputs": [
    {
     "data": {
      "text/html": [
       "<div>\n",
       "<style scoped>\n",
       "    .dataframe tbody tr th:only-of-type {\n",
       "        vertical-align: middle;\n",
       "    }\n",
       "\n",
       "    .dataframe tbody tr th {\n",
       "        vertical-align: top;\n",
       "    }\n",
       "\n",
       "    .dataframe thead th {\n",
       "        text-align: right;\n",
       "    }\n",
       "</style>\n",
       "<table border=\"1\" class=\"dataframe\">\n",
       "  <thead>\n",
       "    <tr style=\"text-align: right;\">\n",
       "      <th></th>\n",
       "      <th>Number of Fundings by Industry</th>\n",
       "    </tr>\n",
       "  </thead>\n",
       "  <tbody>\n",
       "    <tr>\n",
       "      <th>Consumer Internet</th>\n",
       "      <td>941</td>\n",
       "    </tr>\n",
       "    <tr>\n",
       "      <th>Technology</th>\n",
       "      <td>478</td>\n",
       "    </tr>\n",
       "    <tr>\n",
       "      <th>eCommerce</th>\n",
       "      <td>186</td>\n",
       "    </tr>\n",
       "    <tr>\n",
       "      <th>Healthcare</th>\n",
       "      <td>70</td>\n",
       "    </tr>\n",
       "    <tr>\n",
       "      <th>Finance</th>\n",
       "      <td>62</td>\n",
       "    </tr>\n",
       "  </tbody>\n",
       "</table>\n",
       "</div>"
      ],
      "text/plain": [
       "                   Number of Fundings by Industry\n",
       "Consumer Internet                             941\n",
       "Technology                                    478\n",
       "eCommerce                                     186\n",
       "Healthcare                                     70\n",
       "Finance                                        62"
      ]
     },
     "execution_count": 20,
     "metadata": {},
     "output_type": "execute_result"
    }
   ],
   "source": [
    "#Number of Fundings by Industry\n",
    "fundings_count_industry = pd.DataFrame(df['Industry Vertical'].value_counts().sort_values(ascending=False))[:10]\n",
    "fundings_count_industry.rename(columns={'Industry Vertical':'Number of Fundings by Industry'}, inplace=True)\n",
    "fundings_count_industry.head()"
   ]
  },
  {
   "cell_type": "code",
   "execution_count": 21,
   "id": "3299d084",
   "metadata": {},
   "outputs": [
    {
     "data": {
      "text/plain": [
       "<AxesSubplot:ylabel='Industry Vertical'>"
      ]
     },
     "execution_count": 21,
     "metadata": {},
     "output_type": "execute_result"
    },
    {
     "data": {
      "image/png": "[encoded data removed]",
      "text/plain": [
       "<Figure size 720x720 with 1 Axes>"
      ]
     },
     "metadata": {},
     "output_type": "display_data"
    }
   ],
   "source": [
    "#share of funding by industry\n",
    "df['Industry Vertical'].value_counts()[:3].append(df['Industry Vertical'].value_counts()[4:10]).plot(kind = 'pie', figsize = (10, 10),autopct='%.1f%%')"
   ]
  },
  {
   "cell_type": "code",
   "execution_count": 22,
   "id": "20c234bc",
   "metadata": {},
   "outputs": [
    {
     "data": {
      "text/plain": [
       "Bangalore    27.628121\n",
       "Mumbai       18.626807\n",
       "New Delhi    13.830486\n",
       "Gurgaon       9.428384\n",
       "Pune          3.449409\n",
       "Hyderabad     3.252300\n",
       "Chennai       3.186597\n",
       "Noida         3.022339\n",
       "Gurugram      1.642576\n",
       "Ahmedabad     1.248357\n",
       "Name: City  Location, dtype: float64"
      ]
     },
     "execution_count": 22,
     "metadata": {},
     "output_type": "execute_result"
    }
   ],
   "source": [
    "#percentage of cities\n",
    "freq_city = df['City  Location'].value_counts().head(10)\n",
    "freq_city\n",
    "percent = freq_city/df.shape[0] * 100\n",
    "percent"
   ]
  },
  {
   "cell_type": "code",
   "execution_count": 23,
   "id": "e5f17c54",
   "metadata": {},
   "outputs": [
    {
     "data": {
      "text/plain": [
       "<AxesSubplot:xlabel='Count', ylabel='City  Location'>"
      ]
     },
     "execution_count": 23,
     "metadata": {},
     "output_type": "execute_result"
    },
    {
     "data": {
      "image/png": "[encoded data removed]",
      "text/plain": [
       "<Figure size 864x576 with 1 Axes>"
      ]
     },
     "metadata": {
      "needs_background": "light"
     },
     "output_type": "display_data"
    }
   ],
   "source": [
    "# which city are most funded \n",
    "plt.xlabel('Count')\n",
    "plt.ylabel('City  Location')\n",
    "City_Count = df['City  Location'].value_counts()\n",
    "City_Count[:4].append(City_Count[5:16]).sort_values(ascending=True).plot(kind='barh', fontsize=14, figsize=(12, 8))"
   ]
  },
  {
   "cell_type": "code",
   "execution_count": 24,
   "id": "4d537239",
   "metadata": {},
   "outputs": [
    {
     "name": "stdout",
     "output_type": "stream",
     "text": [
      "Seed Funding                   1385\n",
      "Private Equity                 1356\n",
      "Seed / Angel Funding            138\n",
      "Debt Funding                     25\n",
      "Series A                         24\n",
      "Series B                         20\n",
      "Series C                         14\n",
      "Series D                         12\n",
      "Seed Round                        7\n",
      "Pre-Series A                      4\n",
      "Private Equity Round              4\n",
      "Seed                              4\n",
      "Seed / Angle Funding              3\n",
      "pre-Series A                      2\n",
      "Corporate Round                   2\n",
      "Series F                          2\n",
      "Equity                            2\n",
      "Series E                          2\n",
      "Venture Round                     2\n",
      "Angel Funding                     1\n",
      "Crowd Funding                     1\n",
      "Seed Funding Round                1\n",
      "Term Loan                         1\n",
      "Venture                           1\n",
      "Angel Round                       1\n",
      "Crowd funding                     1\n",
      "Bridge Round                      1\n",
      "Angel                             1\n",
      "Pre Series A                      1\n",
      "Private\\\\nEquity                  1\n",
      "Venture - Series Unknown          1\n",
      "Funding Round                     1\n",
      "Private                           1\n",
      "Inhouse Funding                   1\n",
      "Debt-Funding                      1\n",
      "pre-series A                      1\n",
      "Mezzanine                         1\n",
      "Equity Based Funding              1\n",
      "Debt and Preference capital       1\n",
      "Structured Debt                   1\n",
      "Pre-series A                      1\n",
      "Debt                              1\n",
      "Series J                          1\n",
      "Seed funding                      1\n",
      "Maiden Round                      1\n",
      "Private Funding                   1\n",
      "Series G                          1\n",
      "Series B (Extension)              1\n",
      "Series H                          1\n",
      "Single Venture                    1\n",
      "PrivateEquity                     1\n",
      "Name: Investment Type, dtype: int64\n"
     ]
    },
    {
     "data": {
      "image/png": "[encoded data removed]",
      "text/plain": [
       "<Figure size 1440x1152 with 1 Axes>"
      ]
     },
     "metadata": {
      "needs_background": "light"
     },
     "output_type": "display_data"
    }
   ],
   "source": [
    "#investment types\n",
    "import seaborn as sns\n",
    "i_type = df['Investment Type'].value_counts()\n",
    "plt.figure(figsize=(20,16))\n",
    "\n",
    "plt.subplot(221)\n",
    "\n",
    "print(i_type)\n",
    "\n",
    "g=sns.barplot (x=i_type.index[:10],y=i_type.values[:10])\n",
    "g.set_xticklabels(g.get_xticklabels(), rotation=45)\n",
    "\n",
    "g.set_xlabel(\"Type of Investment\", fontsize=15)\n",
    "\n",
    "g.set_ylabel(\"Number of Startups\", fontsize=15)\n",
    "\n",
    "g.set_title(\"Investment type vs Number of Startups\", fontsize=20)\n",
    "plt.show()"
   ]
  },
  {
   "cell_type": "code",
   "execution_count": 25,
   "id": "8438d9ff",
   "metadata": {},
   "outputs": [
    {
     "data": {
      "text/plain": [
       "<AxesSubplot:title={'center':'Startups Funded Per Year'}, xlabel='Year', ylabel='count'>"
      ]
     },
     "execution_count": 25,
     "metadata": {},
     "output_type": "execute_result"
    },
    {
     "data": {
      "image/png": "[encoded data removed]",
      "text/plain": [
       "<Figure size 1080x576 with 1 Axes>"
      ]
     },
     "metadata": {
      "needs_background": "light"
     },
     "output_type": "display_data"
    }
   ],
   "source": [
    "#startups funded per year\n",
    "df20 = pd.read_csv(r\"C:\\Users\\prith\\OneDrive\\Documents\\aiml project\\startup_funding.csv\")\n",
    "df20['Date'] = pd.to_datetime(df20['Date'], errors = 'coerce')\n",
    "plt.xlabel(\"Year\")\n",
    "plt.ylabel(\"count\")\n",
    "plt.title(\"Startups Funded Per Year\")\n",
    "df20.Date.dt.year.value_counts().sort_index().plot(kind='bar', figsize = (15, 8), fontsize = 14)"
   ]
  },
  {
   "cell_type": "code",
   "execution_count": 26,
   "id": "8827e0b5",
   "metadata": {},
   "outputs": [
    {
     "data": {
      "text/plain": [
       "<AxesSubplot:xlabel='Date'>"
      ]
     },
     "execution_count": 26,
     "metadata": {},
     "output_type": "execute_result"
    },
    {
     "data": {
      "image/png": "[encoded data removed]",
      "text/plain": [
       "<Figure size 864x720 with 1 Axes>"
      ]
     },
     "metadata": {
      "needs_background": "light"
     },
     "output_type": "display_data"
    }
   ],
   "source": [
    "#startups by month in year\n",
    "df20['Date'] = pd.to_datetime(df20['Date'], errors = 'coerce')\n",
    "ser = df20.Date.groupby([df20.Date.dt.year, df20.Date.dt.month]).count().unstack(level = -1)\n",
    "ser.columns = ['Jan', 'Feb', 'Mar', 'Apr', 'May', 'Jun', 'Jul', 'Aug', 'Sep', 'Oct', 'Nov','Dec']\n",
    "ser.plot(kind = 'bar',stacked = True, figsize = (12, 10), legend = 'reverse')"
   ]
  },
  {
   "cell_type": "code",
   "execution_count": 27,
   "id": "cdc4f259",
   "metadata": {},
   "outputs": [
    {
     "data": {
      "text/html": [
       "<div>\n",
       "<style scoped>\n",
       "    .dataframe tbody tr th:only-of-type {\n",
       "        vertical-align: middle;\n",
       "    }\n",
       "\n",
       "    .dataframe tbody tr th {\n",
       "        vertical-align: top;\n",
       "    }\n",
       "\n",
       "    .dataframe thead th {\n",
       "        text-align: right;\n",
       "    }\n",
       "</style>\n",
       "<table border=\"1\" class=\"dataframe\">\n",
       "  <thead>\n",
       "    <tr style=\"text-align: right;\">\n",
       "      <th></th>\n",
       "      <th>Investors Name</th>\n",
       "    </tr>\n",
       "  </thead>\n",
       "  <tbody>\n",
       "    <tr>\n",
       "      <th>Ratan Tata</th>\n",
       "      <td>25</td>\n",
       "    </tr>\n",
       "    <tr>\n",
       "      <th>Indian Angel Network</th>\n",
       "      <td>23</td>\n",
       "    </tr>\n",
       "    <tr>\n",
       "      <th>Kalaari Capital</th>\n",
       "      <td>16</td>\n",
       "    </tr>\n",
       "    <tr>\n",
       "      <th>Sequoia Capital</th>\n",
       "      <td>15</td>\n",
       "    </tr>\n",
       "    <tr>\n",
       "      <th>Group of Angel Investors</th>\n",
       "      <td>15</td>\n",
       "    </tr>\n",
       "  </tbody>\n",
       "</table>\n",
       "</div>"
      ],
      "text/plain": [
       "                          Investors Name\n",
       "Ratan Tata                            25\n",
       "Indian Angel Network                  23\n",
       "Kalaari Capital                       16\n",
       "Sequoia Capital                       15\n",
       "Group of Angel Investors              15"
      ]
     },
     "execution_count": 27,
     "metadata": {},
     "output_type": "execute_result"
    }
   ],
   "source": [
    "#highest investor\n",
    "funding_count_investor = pd.DataFrame(df['Investors Name'].value_counts()).sort_values(by='Investors Name', ascending=False)[:10]\n",
    "funding_count_investor.rename(columns={'InvestorsName': 'Number of Investments by Investor'}, inplace=True)\n",
    "funding_count_investor.drop(funding_count_investor[funding_count_investor.index == 'Undisclosed Investors'].index, inplace=True)\n",
    "funding_count_investor.head()"
   ]
  },
  {
   "cell_type": "code",
   "execution_count": 28,
   "id": "6e809728",
   "metadata": {},
   "outputs": [
    {
     "data": {
      "text/html": [
       "<div>\n",
       "<style scoped>\n",
       "    .dataframe tbody tr th:only-of-type {\n",
       "        vertical-align: middle;\n",
       "    }\n",
       "\n",
       "    .dataframe tbody tr th {\n",
       "        vertical-align: top;\n",
       "    }\n",
       "\n",
       "    .dataframe thead th {\n",
       "        text-align: right;\n",
       "    }\n",
       "</style>\n",
       "<table border=\"1\" class=\"dataframe\">\n",
       "  <thead>\n",
       "    <tr style=\"text-align: right;\">\n",
       "      <th></th>\n",
       "      <th>Sr No</th>\n",
       "      <th>Date dd/mm/yyyy</th>\n",
       "      <th>Startup Name</th>\n",
       "      <th>Industry Vertical</th>\n",
       "      <th>SubVertical</th>\n",
       "      <th>City  Location</th>\n",
       "      <th>Investors Name</th>\n",
       "      <th>Investment Type</th>\n",
       "      <th>Amount in USD</th>\n",
       "    </tr>\n",
       "  </thead>\n",
       "  <tbody>\n",
       "    <tr>\n",
       "      <th>49</th>\n",
       "      <td>50</td>\n",
       "      <td>1575763200000000000</td>\n",
       "      <td>Meesho</td>\n",
       "      <td>E-Commerce</td>\n",
       "      <td>Social Commerce</td>\n",
       "      <td>Bangalore</td>\n",
       "      <td>Naspers</td>\n",
       "      <td>Series D</td>\n",
       "      <td>1.250000e+08</td>\n",
       "    </tr>\n",
       "    <tr>\n",
       "      <th>128</th>\n",
       "      <td>129</td>\n",
       "      <td>1528675200000000000</td>\n",
       "      <td>Meesho</td>\n",
       "      <td>Ecommerce</td>\n",
       "      <td>Social Commerce</td>\n",
       "      <td>Bangalore</td>\n",
       "      <td>Shunwei Capital, DST Partners and RPS Ventures</td>\n",
       "      <td>Series C</td>\n",
       "      <td>5.000000e+07</td>\n",
       "    </tr>\n",
       "    <tr>\n",
       "      <th>231</th>\n",
       "      <td>232</td>\n",
       "      <td>1530835200000000000</td>\n",
       "      <td>Meesho</td>\n",
       "      <td>Consumer Internet</td>\n",
       "      <td>Online Marketplace For Resellers</td>\n",
       "      <td>Bangalore</td>\n",
       "      <td>Sequoia Capital India, SAIF Partners, Y Combin...</td>\n",
       "      <td>Private Equity</td>\n",
       "      <td>1.150000e+07</td>\n",
       "    </tr>\n",
       "    <tr>\n",
       "      <th>542</th>\n",
       "      <td>543</td>\n",
       "      <td>1510272000000000000</td>\n",
       "      <td>Meesho</td>\n",
       "      <td>ECommerce</td>\n",
       "      <td>Online Reseller Network</td>\n",
       "      <td>Bangalore</td>\n",
       "      <td>SAIF Partners, YCombinator, Venture Highway</td>\n",
       "      <td>Private Equity</td>\n",
       "      <td>3.100000e+06</td>\n",
       "    </tr>\n",
       "    <tr>\n",
       "      <th>1456</th>\n",
       "      <td>1457</td>\n",
       "      <td>1471478400000000000</td>\n",
       "      <td>Meesho</td>\n",
       "      <td>eCommerce</td>\n",
       "      <td>Mobile based eCommerce SAAS platform</td>\n",
       "      <td>Bangalore</td>\n",
       "      <td>Kashyap Deorah, Rajul Garg, Maninder Gulati</td>\n",
       "      <td>Seed Funding</td>\n",
       "      <td>1.842990e+07</td>\n",
       "    </tr>\n",
       "    <tr>\n",
       "      <th>1683</th>\n",
       "      <td>1684</td>\n",
       "      <td>1465084800000000000</td>\n",
       "      <td>Meesho</td>\n",
       "      <td>eCommerce</td>\n",
       "      <td>Social commerce platform</td>\n",
       "      <td>Bangalore</td>\n",
       "      <td>Rajul Garg &amp; Others</td>\n",
       "      <td>Seed Funding</td>\n",
       "      <td>1.842990e+07</td>\n",
       "    </tr>\n",
       "  </tbody>\n",
       "</table>\n",
       "</div>"
      ],
      "text/plain": [
       "      Sr No      Date dd/mm/yyyy Startup Name  Industry Vertical  \\\n",
       "49       50  1575763200000000000       Meesho         E-Commerce   \n",
       "128     129  1528675200000000000       Meesho          Ecommerce   \n",
       "231     232  1530835200000000000       Meesho  Consumer Internet   \n",
       "542     543  1510272000000000000       Meesho          ECommerce   \n",
       "1456   1457  1471478400000000000       Meesho          eCommerce   \n",
       "1683   1684  1465084800000000000       Meesho          eCommerce   \n",
       "\n",
       "                               SubVertical City  Location  \\\n",
       "49                         Social Commerce      Bangalore   \n",
       "128                        Social Commerce      Bangalore   \n",
       "231       Online Marketplace For Resellers      Bangalore   \n",
       "542                Online Reseller Network      Bangalore   \n",
       "1456  Mobile based eCommerce SAAS platform      Bangalore   \n",
       "1683              Social commerce platform      Bangalore   \n",
       "\n",
       "                                         Investors Name Investment Type  \\\n",
       "49                                              Naspers        Series D   \n",
       "128      Shunwei Capital, DST Partners and RPS Ventures        Series C   \n",
       "231   Sequoia Capital India, SAIF Partners, Y Combin...  Private Equity   \n",
       "542         SAIF Partners, YCombinator, Venture Highway  Private Equity   \n",
       "1456        Kashyap Deorah, Rajul Garg, Maninder Gulati    Seed Funding   \n",
       "1683                                Rajul Garg & Others    Seed Funding   \n",
       "\n",
       "      Amount in USD  \n",
       "49     1.250000e+08  \n",
       "128    5.000000e+07  \n",
       "231    1.150000e+07  \n",
       "542    3.100000e+06  \n",
       "1456   1.842990e+07  \n",
       "1683   1.842990e+07  "
      ]
     },
     "execution_count": 28,
     "metadata": {},
     "output_type": "execute_result"
    }
   ],
   "source": [
    "#detail of one sample starup company by name\n",
    "df[df['Startup Name']=='Meesho']"
   ]
  },
  {
   "cell_type": "code",
   "execution_count": 29,
   "id": "f0c2bfe5",
   "metadata": {},
   "outputs": [
    {
     "data": {
      "image/png": "[encoded data removed]",
      "text/plain": [
       "<Figure size 1800x576 with 1 Axes>"
      ]
     },
     "metadata": {
      "needs_background": "light"
     },
     "output_type": "display_data"
    }
   ],
   "source": [
    "plt.figure(figsize=(25,8))\n",
    "sns.distplot(df.loc[df['Amount in USD']<=10000000.0, 'Amount in USD'])\n",
    "plt.show()"
   ]
  },
  {
   "cell_type": "code",
   "execution_count": 30,
   "id": "f8028bfa",
   "metadata": {},
   "outputs": [
    {
     "data": {
      "text/html": [
       "<div>\n",
       "<style scoped>\n",
       "    .dataframe tbody tr th:only-of-type {\n",
       "        vertical-align: middle;\n",
       "    }\n",
       "\n",
       "    .dataframe tbody tr th {\n",
       "        vertical-align: top;\n",
       "    }\n",
       "\n",
       "    .dataframe thead th {\n",
       "        text-align: right;\n",
       "    }\n",
       "</style>\n",
       "<table border=\"1\" class=\"dataframe\">\n",
       "  <thead>\n",
       "    <tr style=\"text-align: right;\">\n",
       "      <th></th>\n",
       "      <th>Startup Name</th>\n",
       "    </tr>\n",
       "  </thead>\n",
       "  <tbody>\n",
       "    <tr>\n",
       "      <th>OlaCabs</th>\n",
       "      <td>8</td>\n",
       "    </tr>\n",
       "    <tr>\n",
       "      <th>Swiggy</th>\n",
       "      <td>8</td>\n",
       "    </tr>\n",
       "    <tr>\n",
       "      <th>Paytm</th>\n",
       "      <td>7</td>\n",
       "    </tr>\n",
       "    <tr>\n",
       "      <th>Meesho</th>\n",
       "      <td>6</td>\n",
       "    </tr>\n",
       "    <tr>\n",
       "      <th>Medinfi</th>\n",
       "      <td>6</td>\n",
       "    </tr>\n",
       "  </tbody>\n",
       "</table>\n",
       "</div>"
      ],
      "text/plain": [
       "         Startup Name\n",
       "OlaCabs             8\n",
       "Swiggy              8\n",
       "Paytm               7\n",
       "Meesho              6\n",
       "Medinfi             6"
      ]
     },
     "execution_count": 30,
     "metadata": {},
     "output_type": "execute_result"
    }
   ],
   "source": [
    "#number of investments by investors\n",
    "funding_count_company = pd.DataFrame(df['Startup Name'].value_counts()).sort_values(by='Startup Name', ascending=False)[:15]\n",
    "funding_count_company.rename(columns={'StartupName': 'Number of Investments by Investor'}, inplace=True)\n",
    "funding_count_company.head()"
   ]
  },
  {
   "cell_type": "code",
   "execution_count": 31,
   "id": "326b5bac",
   "metadata": {},
   "outputs": [
    {
     "data": {
      "text/html": [
       "<div>\n",
       "<style scoped>\n",
       "    .dataframe tbody tr th:only-of-type {\n",
       "        vertical-align: middle;\n",
       "    }\n",
       "\n",
       "    .dataframe tbody tr th {\n",
       "        vertical-align: top;\n",
       "    }\n",
       "\n",
       "    .dataframe thead th {\n",
       "        text-align: right;\n",
       "    }\n",
       "</style>\n",
       "<table border=\"1\" class=\"dataframe\">\n",
       "  <thead>\n",
       "    <tr style=\"text-align: right;\">\n",
       "      <th></th>\n",
       "      <th>Sr No</th>\n",
       "      <th>Date dd/mm/yyyy</th>\n",
       "      <th>Startup Name</th>\n",
       "      <th>Industry Vertical</th>\n",
       "      <th>SubVertical</th>\n",
       "      <th>City  Location</th>\n",
       "      <th>Investors Name</th>\n",
       "      <th>Investment Type</th>\n",
       "      <th>Amount in USD</th>\n",
       "    </tr>\n",
       "  </thead>\n",
       "  <tbody>\n",
       "    <tr>\n",
       "      <th>60</th>\n",
       "      <td>61</td>\n",
       "      <td>1566864000000000000</td>\n",
       "      <td>Rapido Bike Taxi</td>\n",
       "      <td>Transportation</td>\n",
       "      <td>Bike Taxi</td>\n",
       "      <td>Bangalore</td>\n",
       "      <td>Westbridge Capital</td>\n",
       "      <td>Series B</td>\n",
       "      <td>3.900000e+09</td>\n",
       "    </tr>\n",
       "  </tbody>\n",
       "</table>\n",
       "</div>"
      ],
      "text/plain": [
       "    Sr No      Date dd/mm/yyyy      Startup Name Industry Vertical  \\\n",
       "60     61  1566864000000000000  Rapido Bike Taxi    Transportation   \n",
       "\n",
       "   SubVertical City  Location      Investors Name Investment Type  \\\n",
       "60   Bike Taxi      Bangalore  Westbridge Capital        Series B   \n",
       "\n",
       "    Amount in USD  \n",
       "60   3.900000e+09  "
      ]
     },
     "execution_count": 31,
     "metadata": {},
     "output_type": "execute_result"
    }
   ],
   "source": [
    "#highest valuation\n",
    "df[df['Amount in USD']==df['Amount in USD'].max()]"
   ]
  },
  {
   "cell_type": "code",
   "execution_count": 32,
   "id": "1ec66458",
   "metadata": {},
   "outputs": [
    {
     "data": {
      "text/plain": [
       "array(['Paytm', 'Rapido Bike Taxi', 'Flipkart'], dtype=object)"
      ]
     },
     "execution_count": 32,
     "metadata": {},
     "output_type": "execute_result"
    }
   ],
   "source": [
    "#more than 1billion valuation\n",
    "df[df['Amount in USD']>=1000000000]['Startup Name'].unique()"
   ]
  },
  {
   "cell_type": "code",
   "execution_count": 33,
   "id": "5ae84083",
   "metadata": {},
   "outputs": [
    {
     "data": {
      "text/html": [
       "<div>\n",
       "<style scoped>\n",
       "    .dataframe tbody tr th:only-of-type {\n",
       "        vertical-align: middle;\n",
       "    }\n",
       "\n",
       "    .dataframe tbody tr th {\n",
       "        vertical-align: top;\n",
       "    }\n",
       "\n",
       "    .dataframe thead th {\n",
       "        text-align: right;\n",
       "    }\n",
       "</style>\n",
       "<table border=\"1\" class=\"dataframe\">\n",
       "  <thead>\n",
       "    <tr style=\"text-align: right;\">\n",
       "      <th></th>\n",
       "      <th>Sr No</th>\n",
       "      <th>Date dd/mm/yyyy</th>\n",
       "      <th>Startup Name</th>\n",
       "      <th>Industry Vertical</th>\n",
       "      <th>SubVertical</th>\n",
       "      <th>City  Location</th>\n",
       "      <th>Investors Name</th>\n",
       "      <th>Investment Type</th>\n",
       "      <th>Amount in USD</th>\n",
       "    </tr>\n",
       "  </thead>\n",
       "  <tbody>\n",
       "    <tr>\n",
       "      <th>3017</th>\n",
       "      <td>3018</td>\n",
       "      <td>1421625600000000000</td>\n",
       "      <td>Hostel Dunia</td>\n",
       "      <td>NaN</td>\n",
       "      <td>NaN</td>\n",
       "      <td>NaN</td>\n",
       "      <td>Hyderabad Angels (at Startup Heroes event)</td>\n",
       "      <td>Seed Funding</td>\n",
       "      <td>16000.0</td>\n",
       "    </tr>\n",
       "    <tr>\n",
       "      <th>3018</th>\n",
       "      <td>3019</td>\n",
       "      <td>1421625600000000000</td>\n",
       "      <td>Play your sport</td>\n",
       "      <td>NaN</td>\n",
       "      <td>NaN</td>\n",
       "      <td>NaN</td>\n",
       "      <td>Hyderabad Angels (at Startup Heroes event)</td>\n",
       "      <td>Seed Funding</td>\n",
       "      <td>16000.0</td>\n",
       "    </tr>\n",
       "    <tr>\n",
       "      <th>3019</th>\n",
       "      <td>3020</td>\n",
       "      <td>1421625600000000000</td>\n",
       "      <td>Yo Grad</td>\n",
       "      <td>NaN</td>\n",
       "      <td>NaN</td>\n",
       "      <td>NaN</td>\n",
       "      <td>Hyderabad Angels (at Startup Heroes event)</td>\n",
       "      <td>Seed Funding</td>\n",
       "      <td>16000.0</td>\n",
       "    </tr>\n",
       "    <tr>\n",
       "      <th>3020</th>\n",
       "      <td>3021</td>\n",
       "      <td>1421625600000000000</td>\n",
       "      <td>Enabli</td>\n",
       "      <td>NaN</td>\n",
       "      <td>NaN</td>\n",
       "      <td>NaN</td>\n",
       "      <td>Hyderabad Angels (at Startup Heroes event)</td>\n",
       "      <td>Seed Funding</td>\n",
       "      <td>16000.0</td>\n",
       "    </tr>\n",
       "    <tr>\n",
       "      <th>3021</th>\n",
       "      <td>3022</td>\n",
       "      <td>1421625600000000000</td>\n",
       "      <td>CBS</td>\n",
       "      <td>NaN</td>\n",
       "      <td>NaN</td>\n",
       "      <td>NaN</td>\n",
       "      <td>Hyderabad Angels (at Startup Heroes event)</td>\n",
       "      <td>Seed Funding</td>\n",
       "      <td>16000.0</td>\n",
       "    </tr>\n",
       "  </tbody>\n",
       "</table>\n",
       "</div>"
      ],
      "text/plain": [
       "      Sr No      Date dd/mm/yyyy     Startup Name Industry Vertical  \\\n",
       "3017   3018  1421625600000000000     Hostel Dunia               NaN   \n",
       "3018   3019  1421625600000000000  Play your sport               NaN   \n",
       "3019   3020  1421625600000000000          Yo Grad               NaN   \n",
       "3020   3021  1421625600000000000           Enabli               NaN   \n",
       "3021   3022  1421625600000000000              CBS               NaN   \n",
       "\n",
       "     SubVertical City  Location                              Investors Name  \\\n",
       "3017         NaN            NaN  Hyderabad Angels (at Startup Heroes event)   \n",
       "3018         NaN            NaN  Hyderabad Angels (at Startup Heroes event)   \n",
       "3019         NaN            NaN  Hyderabad Angels (at Startup Heroes event)   \n",
       "3020         NaN            NaN  Hyderabad Angels (at Startup Heroes event)   \n",
       "3021         NaN            NaN  Hyderabad Angels (at Startup Heroes event)   \n",
       "\n",
       "     Investment Type  Amount in USD  \n",
       "3017    Seed Funding        16000.0  \n",
       "3018    Seed Funding        16000.0  \n",
       "3019    Seed Funding        16000.0  \n",
       "3020    Seed Funding        16000.0  \n",
       "3021    Seed Funding        16000.0  "
      ]
     },
     "execution_count": 33,
     "metadata": {},
     "output_type": "execute_result"
    }
   ],
   "source": [
    "#lowest valuation\n",
    "df[df['Amount in USD']==df['Amount in USD'].min()]"
   ]
  },
  {
   "cell_type": "code",
   "execution_count": 34,
   "id": "bedf5142",
   "metadata": {},
   "outputs": [
    {
     "data": {
      "text/html": [
       "<div>\n",
       "<style scoped>\n",
       "    .dataframe tbody tr th:only-of-type {\n",
       "        vertical-align: middle;\n",
       "    }\n",
       "\n",
       "    .dataframe tbody tr th {\n",
       "        vertical-align: top;\n",
       "    }\n",
       "\n",
       "    .dataframe thead th {\n",
       "        text-align: right;\n",
       "    }\n",
       "</style>\n",
       "<table border=\"1\" class=\"dataframe\">\n",
       "  <thead>\n",
       "    <tr style=\"text-align: right;\">\n",
       "      <th></th>\n",
       "      <th>Sr No</th>\n",
       "      <th>Date dd/mm/yyyy</th>\n",
       "      <th>Startup Name</th>\n",
       "      <th>Industry Vertical</th>\n",
       "      <th>SubVertical</th>\n",
       "      <th>City  Location</th>\n",
       "      <th>Investors Name</th>\n",
       "      <th>Investment Type</th>\n",
       "      <th>Amount in USD</th>\n",
       "    </tr>\n",
       "  </thead>\n",
       "  <tbody>\n",
       "    <tr>\n",
       "      <th>49</th>\n",
       "      <td>50</td>\n",
       "      <td>1575763200000000000</td>\n",
       "      <td>Meesho</td>\n",
       "      <td>E-Commerce</td>\n",
       "      <td>Social Commerce</td>\n",
       "      <td>Bangalore</td>\n",
       "      <td>Naspers</td>\n",
       "      <td>Series D</td>\n",
       "      <td>1.250000e+08</td>\n",
       "    </tr>\n",
       "    <tr>\n",
       "      <th>128</th>\n",
       "      <td>129</td>\n",
       "      <td>1528675200000000000</td>\n",
       "      <td>Meesho</td>\n",
       "      <td>Ecommerce</td>\n",
       "      <td>Social Commerce</td>\n",
       "      <td>Bangalore</td>\n",
       "      <td>Shunwei Capital, DST Partners and RPS Ventures</td>\n",
       "      <td>Series C</td>\n",
       "      <td>5.000000e+07</td>\n",
       "    </tr>\n",
       "    <tr>\n",
       "      <th>231</th>\n",
       "      <td>232</td>\n",
       "      <td>1530835200000000000</td>\n",
       "      <td>Meesho</td>\n",
       "      <td>Consumer Internet</td>\n",
       "      <td>Online Marketplace For Resellers</td>\n",
       "      <td>Bangalore</td>\n",
       "      <td>Sequoia Capital India, SAIF Partners, Y Combin...</td>\n",
       "      <td>Private Equity</td>\n",
       "      <td>1.150000e+07</td>\n",
       "    </tr>\n",
       "    <tr>\n",
       "      <th>542</th>\n",
       "      <td>543</td>\n",
       "      <td>1510272000000000000</td>\n",
       "      <td>Meesho</td>\n",
       "      <td>ECommerce</td>\n",
       "      <td>Online Reseller Network</td>\n",
       "      <td>Bangalore</td>\n",
       "      <td>SAIF Partners, YCombinator, Venture Highway</td>\n",
       "      <td>Private Equity</td>\n",
       "      <td>3.100000e+06</td>\n",
       "    </tr>\n",
       "    <tr>\n",
       "      <th>1456</th>\n",
       "      <td>1457</td>\n",
       "      <td>1471478400000000000</td>\n",
       "      <td>Meesho</td>\n",
       "      <td>eCommerce</td>\n",
       "      <td>Mobile based eCommerce SAAS platform</td>\n",
       "      <td>Bangalore</td>\n",
       "      <td>Kashyap Deorah, Rajul Garg, Maninder Gulati</td>\n",
       "      <td>Seed Funding</td>\n",
       "      <td>1.842990e+07</td>\n",
       "    </tr>\n",
       "    <tr>\n",
       "      <th>1683</th>\n",
       "      <td>1684</td>\n",
       "      <td>1465084800000000000</td>\n",
       "      <td>Meesho</td>\n",
       "      <td>eCommerce</td>\n",
       "      <td>Social commerce platform</td>\n",
       "      <td>Bangalore</td>\n",
       "      <td>Rajul Garg &amp; Others</td>\n",
       "      <td>Seed Funding</td>\n",
       "      <td>1.842990e+07</td>\n",
       "    </tr>\n",
       "  </tbody>\n",
       "</table>\n",
       "</div>"
      ],
      "text/plain": [
       "      Sr No      Date dd/mm/yyyy Startup Name  Industry Vertical  \\\n",
       "49       50  1575763200000000000       Meesho         E-Commerce   \n",
       "128     129  1528675200000000000       Meesho          Ecommerce   \n",
       "231     232  1530835200000000000       Meesho  Consumer Internet   \n",
       "542     543  1510272000000000000       Meesho          ECommerce   \n",
       "1456   1457  1471478400000000000       Meesho          eCommerce   \n",
       "1683   1684  1465084800000000000       Meesho          eCommerce   \n",
       "\n",
       "                               SubVertical City  Location  \\\n",
       "49                         Social Commerce      Bangalore   \n",
       "128                        Social Commerce      Bangalore   \n",
       "231       Online Marketplace For Resellers      Bangalore   \n",
       "542                Online Reseller Network      Bangalore   \n",
       "1456  Mobile based eCommerce SAAS platform      Bangalore   \n",
       "1683              Social commerce platform      Bangalore   \n",
       "\n",
       "                                         Investors Name Investment Type  \\\n",
       "49                                              Naspers        Series D   \n",
       "128      Shunwei Capital, DST Partners and RPS Ventures        Series C   \n",
       "231   Sequoia Capital India, SAIF Partners, Y Combin...  Private Equity   \n",
       "542         SAIF Partners, YCombinator, Venture Highway  Private Equity   \n",
       "1456        Kashyap Deorah, Rajul Garg, Maninder Gulati    Seed Funding   \n",
       "1683                                Rajul Garg & Others    Seed Funding   \n",
       "\n",
       "      Amount in USD  \n",
       "49     1.250000e+08  \n",
       "128    5.000000e+07  \n",
       "231    1.150000e+07  \n",
       "542    3.100000e+06  \n",
       "1456   1.842990e+07  \n",
       "1683   1.842990e+07  "
      ]
     },
     "execution_count": 34,
     "metadata": {},
     "output_type": "execute_result"
    }
   ],
   "source": [
    "#detail of one sample starup company by name\n",
    "df[df['Startup Name']=='Meesho']"
   ]
  },
  {
   "cell_type": "code",
   "execution_count": 35,
   "id": "f6940a29",
   "metadata": {},
   "outputs": [
    {
     "name": "stdout",
     "output_type": "stream",
     "text": [
      "Average : 18429897.27080815\n",
      "Median : 7450000.0\n"
     ]
    }
   ],
   "source": [
    "funding_average = df['Amount in USD'].mean()\n",
    "funding_meadian = df['Amount in USD'].median()\n",
    "print(\"Average :\", funding_average)\n",
    "print(\"Median :\", funding_meadian)"
   ]
  },
  {
   "cell_type": "code",
   "execution_count": null,
   "id": "b0cef557",
   "metadata": {},
   "outputs": [],
   "source": []
  }
 ],
 "metadata": {
  "kernelspec": {
   "display_name": "Python 3",
   "language": "python",
   "name": "python3"
  },
  "language_info": {
   "codemirror_mode": {
    "name": "ipython",
    "version": 3
   },
   "file_extension": ".py",
   "mimetype": "text/x-python",
   "name": "python",
   "nbconvert_exporter": "python",
   "pygments_lexer": "ipython3",
   "version": "3.8.8"
  }
 },
 "nbformat": 4,
 "nbformat_minor": 5
}
